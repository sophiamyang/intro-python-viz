{
 "cells": [
  {
   "cell_type": "markdown",
   "id": "2fb6c3de",
   "metadata": {},
   "source": [
    "<h1>How to derive basic insights from data?</h1>\n",
    "<br>\n",
    "We often work with an Excel-like data file, for which Pandas is an appropriate data library. Pandas plotting is built on top of Matplotlib but is a higher-level plotting API (with shorter and more convenient code). \n",
    "\n",
    "\n",
    "<p class=\"lead\"> \n",
    "Table of Contents: \n",
    "\n",
    "- <a href=\"#Understanding-Pandas-and-loading-data\">Understanding Pandas and loading data</a>\n",
    "- <a href=\"#Pandas-plotting-API\">Pandas plotting API</a>    \n",
    "- <a href=\"#Pattern-of-a-continuous-variable\">Pattern of a continuous variable</a>\n",
    "- <a href=\"#Pattern-of-a-categorical-variable\">Pattern of a categorical variable</a>\n",
    "- <a href=\"#Relationship-between-two-variables\">Relationship between two variables</a>\n",
    "- <a href=\"#Time-series\">Time series</a>\n",
    "    \n",
    "</p>\n",
    "\n",
    "\n",
    "\n"
   ]
  },
  {
   "cell_type": "markdown",
   "id": "5c90f1f0",
   "metadata": {},
   "source": [
    "<div>\n",
    "<h2 class=\"breadcrumb\">Understanding Pandas and loading data</h2><p>\n",
    "</div>\n",
    "\n",
    "> Pandas DataFrame is a 2-dimensional labeled data structure with columns of potentially different types. You can think of it like a spreadsheet or SQL table, or a dict of Series objects. (pandas.pydata.org)"
   ]
  },
  {
   "cell_type": "code",
   "execution_count": null,
   "id": "ae2cedc2",
   "metadata": {},
   "outputs": [],
   "source": [
    "import pandas as pd"
   ]
  },
  {
   "cell_type": "code",
   "execution_count": null,
   "id": "4ccfc59a",
   "metadata": {},
   "outputs": [],
   "source": [
    "df = pd.read_csv('assets/mpg.csv')"
   ]
  },
  {
   "cell_type": "code",
   "execution_count": null,
   "id": "3abd6f9a",
   "metadata": {
    "scrolled": false
   },
   "outputs": [],
   "source": [
    "df.head()"
   ]
  },
  {
   "cell_type": "code",
   "execution_count": null,
   "id": "892d045b",
   "metadata": {},
   "outputs": [],
   "source": [
    "len(df)"
   ]
  },
  {
   "cell_type": "code",
   "execution_count": null,
   "id": "9e17d785",
   "metadata": {},
   "outputs": [],
   "source": [
    "df.describe()"
   ]
  },
  {
   "cell_type": "markdown",
   "id": "b7e92072",
   "metadata": {},
   "source": [
    "The column labels can be accessed using columns attributes:"
   ]
  },
  {
   "cell_type": "code",
   "execution_count": null,
   "id": "d74fd540",
   "metadata": {},
   "outputs": [],
   "source": [
    "df.columns"
   ]
  },
  {
   "cell_type": "markdown",
   "id": "02c2c478",
   "metadata": {},
   "source": [
    "Use df.column_name or df['column_name'] to get a column:"
   ]
  },
  {
   "cell_type": "code",
   "execution_count": null,
   "id": "c50466e5",
   "metadata": {},
   "outputs": [],
   "source": [
    "df.weight"
   ]
  },
  {
   "cell_type": "code",
   "execution_count": null,
   "id": "a8041bd9",
   "metadata": {},
   "outputs": [],
   "source": [
    "df['weight']"
   ]
  },
  {
   "cell_type": "code",
   "execution_count": null,
   "id": "5be83346",
   "metadata": {},
   "outputs": [],
   "source": [
    "df.weight.mean()"
   ]
  },
  {
   "cell_type": "code",
   "execution_count": null,
   "id": "dc15bae6",
   "metadata": {},
   "outputs": [],
   "source": [
    "df.weight.std()"
   ]
  },
  {
   "cell_type": "code",
   "execution_count": null,
   "id": "306b6070",
   "metadata": {},
   "outputs": [],
   "source": [
    "df.origin.value_counts()"
   ]
  },
  {
   "cell_type": "markdown",
   "id": "f7f4d08b",
   "metadata": {},
   "source": [
    "<div class=\"alert alert-info\">\n",
    "<h4>Exercise</h4>\n",
    "\n",
    "Try load in another dataset from 'assets/penguins.csv' and call it `dfe`.  \n",
    "<details><summary><i><u>(Hint)</u><i></summary><br>\n",
    "Use the `pd.read_csv` method. \n",
    "    \n",
    "<details><summary><i><u>(Solution)</u><i></summary><br>\n",
    "    \n",
    "```python\n",
    "dfe = pd.read_csv('assets/penguins.csv')\n",
    "```\n",
    "</details>\n",
    "</details>\n",
    "</div>"
   ]
  },
  {
   "cell_type": "markdown",
   "id": "4c42037e",
   "metadata": {},
   "source": [
    "<div class=\"alert alert-info\">\n",
    "<h4>Exercise</h4>\n",
    "\n",
    "Explore the Penguins dataset.  \n",
    "</div>"
   ]
  },
  {
   "cell_type": "markdown",
   "id": "ea3ea31e",
   "metadata": {},
   "source": [
    "<div>\n",
    "<h2 class=\"breadcrumb\">Pandas plotting API</h2><p>\n",
    "</div>"
   ]
  },
  {
   "cell_type": "code",
   "execution_count": null,
   "id": "c32f6a8a",
   "metadata": {
    "scrolled": true
   },
   "outputs": [],
   "source": [
    "df.plot();"
   ]
  },
  {
   "cell_type": "markdown",
   "id": "063b39d8",
   "metadata": {},
   "source": [
    "<div class=\"alert alert-success\">\n",
    "<h4>Tips</h4>\n",
    "\n",
    "To understand how df.plot works, try `df.plot?`"
   ]
  },
  {
   "cell_type": "code",
   "execution_count": null,
   "id": "dbaa148c",
   "metadata": {},
   "outputs": [],
   "source": [
    "df.plot?"
   ]
  },
  {
   "cell_type": "markdown",
   "id": "0877ae43",
   "metadata": {},
   "source": [
    "<div>\n",
    "<h2 class=\"breadcrumb\">Pattern of a continuous variable</h2><p>\n",
    "</div>"
   ]
  },
  {
   "cell_type": "code",
   "execution_count": null,
   "id": "a91f369a",
   "metadata": {},
   "outputs": [],
   "source": [
    "df.head()"
   ]
  },
  {
   "cell_type": "markdown",
   "id": "06d1e649",
   "metadata": {},
   "source": [
    "### Histogram\n",
    "\n",
    "> A `histogram` is a representation of the distribution of data.\n"
   ]
  },
  {
   "cell_type": "code",
   "execution_count": null,
   "id": "246976fa",
   "metadata": {},
   "outputs": [],
   "source": [
    "df['mpg'].hist(grid=True);"
   ]
  },
  {
   "cell_type": "code",
   "execution_count": null,
   "id": "78f7aaf3",
   "metadata": {},
   "outputs": [],
   "source": [
    "df['mpg'].plot(kind='hist');"
   ]
  },
  {
   "cell_type": "markdown",
   "id": "a2d537f9",
   "metadata": {},
   "source": [
    "Create histogram plots for two variables:"
   ]
  },
  {
   "cell_type": "code",
   "execution_count": null,
   "id": "705db05c",
   "metadata": {
    "scrolled": true
   },
   "outputs": [],
   "source": [
    "df[['mpg', 'horsepower']].plot(kind='hist', subplots=True);"
   ]
  },
  {
   "cell_type": "markdown",
   "id": "45ef7037",
   "metadata": {},
   "source": [
    "What is the distribution of mpg by origin?"
   ]
  },
  {
   "cell_type": "code",
   "execution_count": null,
   "id": "47f3169c",
   "metadata": {},
   "outputs": [],
   "source": [
    "df.groupby('origin')['mpg'].plot(kind='hist', alpha=0.3, legend=True);"
   ]
  },
  {
   "cell_type": "markdown",
   "id": "b9a28723",
   "metadata": {},
   "source": [
    "### Kernel Density Estimate plot\n",
    "\n",
    "> In statistics, kernel density estimation (KDE) is a non-parametric way to estimate the probability density function (PDF) of a random variable. This function uses Gaussian kernels and includes automatic bandwidth determination.\n"
   ]
  },
  {
   "cell_type": "code",
   "execution_count": null,
   "id": "cb86ef2c",
   "metadata": {
    "scrolled": true
   },
   "outputs": [],
   "source": [
    "df['mpg'].plot(kind='kde');"
   ]
  },
  {
   "cell_type": "code",
   "execution_count": null,
   "id": "c606ee61",
   "metadata": {},
   "outputs": [],
   "source": [
    "df.groupby('origin')['mpg'].plot(kind='kde', legend=True);"
   ]
  },
  {
   "cell_type": "markdown",
   "id": "5121bd37",
   "metadata": {},
   "source": [
    "<div class=\"alert alert-info\">\n",
    "<h4>Exercise</h4>\n",
    "\n",
    "In the previous exercise, you have loaded the Penguins dataset. In this exercise, explore the distribution of body mass of penguins and see how the distributions differ by species and sex. \n",
    "    \n",
    "<details><summary><i><u>(Hint)</u><i></summary><br>\n",
    "You can either use histogram or kernel density plot for this exercise, or both! \n",
    "    \n",
    "    \n",
    "<details><summary><i><u>(Solution)</u><i></summary><br>\n",
    "    \n",
    "```python\n",
    "dfe['body_mass_g'].plot(kind='kde');\n",
    "dfe.groupby('species')['body_mass_g'].plot(kind='kde', legend=True);\n",
    "dfe.groupby('sex')['body_mass_g'].plot(kind='kde', legend=True);\n",
    "dfe.groupby(['sex','species'])['body_mass_g'].plot(kind='kde', legend=True);\n",
    "\n",
    "```\n",
    "</details>\n",
    "</details>\n",
    "</div>"
   ]
  },
  {
   "cell_type": "markdown",
   "id": "c6cb5bb2",
   "metadata": {},
   "source": [
    "<div>\n",
    "<h2 class=\"breadcrumb\">Pattern of a categorical variable</h2><p>\n",
    "</div>"
   ]
  },
  {
   "cell_type": "markdown",
   "id": "b240da17",
   "metadata": {},
   "source": [
    "### Bar chart"
   ]
  },
  {
   "cell_type": "code",
   "execution_count": null,
   "id": "93f4e4dc",
   "metadata": {},
   "outputs": [],
   "source": [
    "df.head()"
   ]
  },
  {
   "cell_type": "code",
   "execution_count": null,
   "id": "95c71950",
   "metadata": {},
   "outputs": [],
   "source": [
    "df['origin'].value_counts()"
   ]
  },
  {
   "cell_type": "code",
   "execution_count": null,
   "id": "2c80ca14",
   "metadata": {},
   "outputs": [],
   "source": [
    "df['origin'].value_counts().plot(kind='bar');"
   ]
  },
  {
   "cell_type": "code",
   "execution_count": null,
   "id": "6eab44aa",
   "metadata": {},
   "outputs": [],
   "source": [
    "df['origin'].value_counts().plot(kind='barh');"
   ]
  },
  {
   "cell_type": "markdown",
   "id": "eb22b06e",
   "metadata": {},
   "source": [
    "#### User bar chart to show mpg info by origin and model year"
   ]
  },
  {
   "cell_type": "code",
   "execution_count": null,
   "id": "c10bbc09",
   "metadata": {},
   "outputs": [],
   "source": [
    "table = df.groupby(['model_year', 'origin']).mean()['mpg'].unstack('origin')"
   ]
  },
  {
   "cell_type": "code",
   "execution_count": null,
   "id": "de0e3e9a",
   "metadata": {},
   "outputs": [],
   "source": [
    "table.plot(kind='bar', stacked=True);"
   ]
  },
  {
   "cell_type": "markdown",
   "id": "e40a5cb0",
   "metadata": {},
   "source": [
    "### Pie chart"
   ]
  },
  {
   "cell_type": "code",
   "execution_count": null,
   "id": "870927a3",
   "metadata": {},
   "outputs": [],
   "source": [
    "df['origin'].value_counts().plot(kind='pie');"
   ]
  },
  {
   "cell_type": "markdown",
   "id": "9bf23c31",
   "metadata": {},
   "source": [
    "<div class=\"alert alert-info\">\n",
    "<h4>Exercise</h4>\n",
    "\n",
    "Create two plots with the Penguins dataset:\n",
    "1) Bar plot showing the counts of species. \n",
    "    \n",
    "2) Bar plot showing the mean values of body mass by species and by sex. \n",
    "    \n",
    "    \n",
    "<details><summary><i><u>(Solution)</u><i></summary><br>\n",
    "<details><summary><i><u>(You can do it!)</u><i></summary><br>\n",
    "    \n",
    "```python\n",
    "dfe['species'].value_counts().plot(kind='bar');\n",
    "dfe.groupby(['species', 'sex']).mean().unstack('sex')['body_mass_g'].plot(kind='bar');\n",
    "```\n",
    "</details>\n",
    "</details>\n",
    "</div>"
   ]
  },
  {
   "cell_type": "markdown",
   "id": "95f00ed3",
   "metadata": {},
   "source": [
    "<div>\n",
    "<h2 class=\"breadcrumb\">Relationship between two variables</h2><p>\n",
    "</div>"
   ]
  },
  {
   "cell_type": "markdown",
   "id": "0a55dfcb",
   "metadata": {},
   "source": [
    "Relationship between weight and mpg:"
   ]
  },
  {
   "cell_type": "code",
   "execution_count": null,
   "id": "9d414927",
   "metadata": {},
   "outputs": [],
   "source": [
    "df.plot(x='weight', y='mpg', kind='scatter', title='relationship between weight and mpg');"
   ]
  },
  {
   "cell_type": "markdown",
   "id": "d6e600b9",
   "metadata": {},
   "source": [
    "Relationship between weight and mpg by origin:\n",
    "\n",
    "There are often many ways to create the same plot. Here is one way to create this plot. We will see another way in the next notebook. "
   ]
  },
  {
   "cell_type": "code",
   "execution_count": null,
   "id": "d0fe71a0",
   "metadata": {},
   "outputs": [],
   "source": [
    "import matplotlib.pyplot as plt\n",
    "fig, ax = plt.subplots()\n",
    "df[df.origin=='usa'].plot(x='weight', y='mpg', kind='scatter', ax=ax, c='r', label='USA');\n",
    "df[df.origin=='japan'].plot(x='weight', y='mpg', kind='scatter', ax=ax, c='g', label='Japan');\n",
    "df[df.origin=='europe'].plot(x='weight', y='mpg', kind='scatter', ax=ax, c='b', label='Europe');\n"
   ]
  },
  {
   "cell_type": "markdown",
   "id": "d99b15b3",
   "metadata": {},
   "source": [
    "<div class=\"alert alert-info\">\n",
    "<h4>Exercise</h4>\n",
    "\n",
    "Create two plots with the Penguins dataset:\n",
    "1) Scatter plot showing the relationship between flipper length and body mass. \n",
    "    \n",
    "2) Showing this relationship by species.\n",
    "    \n",
    "<details><summary><i><u>(Solution)</u><i></summary><br>\n",
    "    \n",
    "    \n",
    "<details><summary><i><u>(Give yourself one more minute)</u><i></summary><br>\n",
    "    \n",
    "```python\n",
    "dfe.plot(x='flipper_length_mm', y='body_mass_g', kind='scatter');\n",
    "\n",
    "fig, ax = plt.subplots()\n",
    "dfe[dfe.species=='Adelie'].plot(x='flipper_length_mm', y='body_mass_g', kind='scatter', ax=ax, c='r', label='Adelie');\n",
    "dfe[dfe.species=='Gentoo'].plot(x='flipper_length_mm', y='body_mass_g', kind='scatter', ax=ax, c='g', label='Gentoo');\n",
    "dfe[dfe.species=='Chinstrap'].plot(x='flipper_length_mm', y='body_mass_g', kind='scatter', ax=ax, c='b', label='Chinstrap');\n",
    "\n",
    "```\n",
    "</details>\n",
    "</details>\n",
    "</div>"
   ]
  },
  {
   "cell_type": "markdown",
   "id": "c27d5fc4",
   "metadata": {},
   "source": [
    "<div>\n",
    "<h2 class=\"breadcrumb\">Time series</h2><p>\n",
    "</div>"
   ]
  },
  {
   "cell_type": "code",
   "execution_count": null,
   "id": "f03e306f",
   "metadata": {},
   "outputs": [],
   "source": [
    "dft = pd.read_csv(\n",
    "    'assets/air_quality_no2.csv', \n",
    "    index_col=0, \n",
    "    parse_dates=True\n",
    ")"
   ]
  },
  {
   "cell_type": "code",
   "execution_count": null,
   "id": "5f8a665c",
   "metadata": {},
   "outputs": [],
   "source": [
    "dft.head()"
   ]
  },
  {
   "cell_type": "code",
   "execution_count": null,
   "id": "76db8fcd",
   "metadata": {},
   "outputs": [],
   "source": [
    "dft.plot();"
   ]
  },
  {
   "cell_type": "code",
   "execution_count": null,
   "id": "be6dedca",
   "metadata": {},
   "outputs": [],
   "source": [
    "dft.plot(subplots=True, layout=(1,3), figsize=(15,4));"
   ]
  },
  {
   "cell_type": "markdown",
   "id": "334b60b7",
   "metadata": {},
   "source": [
    "<div class=\"alert alert-info\">\n",
    "<h4>Exercise</h4>\n",
    "\n",
    "Create an area chart for this time series data.\n",
    "<details><summary><i><u>(Hint)</u><i></summary><br>\n",
    "Try `kind=\"area\"`\n",
    "    \n",
    "<details><summary><i><u>(Solution)</u><i></summary><br>\n",
    "    \n",
    "```python\n",
    "dft.plot(figsize=(12, 4), kind='area');\n",
    "dft.plot(figsize=(12, 4), kind='area', subplots=True);\n",
    "```\n",
    "</details>\n",
    "</details>\n",
    "</div>"
   ]
  }
 ],
 "metadata": {
  "kernelspec": {
   "display_name": "Python 3 (ipykernel)",
   "language": "python",
   "name": "python3"
  },
  "language_info": {
   "codemirror_mode": {
    "name": "ipython",
    "version": 3
   },
   "file_extension": ".py",
   "mimetype": "text/x-python",
   "name": "python",
   "nbconvert_exporter": "python",
   "pygments_lexer": "ipython3",
   "version": "3.9.6"
  }
 },
 "nbformat": 4,
 "nbformat_minor": 5
}
