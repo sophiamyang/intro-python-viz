{
 "cells": [
  {
   "cell_type": "markdown",
   "id": "26649f8f",
   "metadata": {},
   "source": [
    "<h1>Final project </h1>\n",
    "<br>\n",
    "\n",
    "In this notebook, we will complete an end-to-end data visualization project and learn how we can use visualization to solve real-world problems. \n",
    "\n",
    "<p class=\"lead\"> \n",
    "Table of Contents: \n",
    "\n",
    "- <a href=\"#Come-up-with-questions\">Come up with questions</a>\n",
    "- <a href=\"#Find-data\">Find data</a>    \n",
    "- <a href=\"#Refine-questions\">Refine your questions</a>\n",
    "- <a href=\"#Data-cleaning\">Data cleaning</a>\n",
    "- <a href=\"#Data-exploration-and-visualization\">Data exploration and visualization</a>\n",
    "\n",
    "    \n",
    "</p>\n",
    "\n",
    "\n",
    "\n"
   ]
  },
  {
   "cell_type": "markdown",
   "id": "2f023122",
   "metadata": {},
   "source": [
    "<div>\n",
    "<h2 class=\"breadcrumb\">Come up with questions</h2><p>\n",
    "</div>\n",
    "\n",
    "- What excites you? What kind of problems would you like to explore and solve with data visualization?\n",
    "\n",
    "![](assets/UFO1.gif)"
   ]
  },
  {
   "cell_type": "markdown",
   "id": "29203370",
   "metadata": {},
   "source": [
    "<div>\n",
    "<h2 class=\"breadcrumb\">Find data</h2><p>\n",
    "</div>\n",
    "\n",
    "- Google\n",
    "- Find public datasets (e.g., https://www.kaggle.com/datasets/) \n",
    "- Use API (e.g., Twitter API)\n",
    "- Web scraping \n",
    "- Survey\n",
    "\n",
    "\n",
    "UFO data: https://www.kaggle.com/datasets/NUFORC/ufo-sightings"
   ]
  },
  {
   "cell_type": "markdown",
   "id": "1f48fa62",
   "metadata": {},
   "source": [
    "<div>\n",
    "<h2 class=\"breadcrumb\">Refine questions</h2><p>\n",
    "</div>\n",
    "\n",
    "Given the data we see, we can refine our questions:\n",
    "\n",
    "- What is the yearly/monthly/daily trend of UFO sightings? Which year/month of the year/day of the month has the highest number of UFO sightings?\n",
    "- Which country has the highest number of UFO sightings?\n",
    "- Are there overall trend differences by country?"
   ]
  },
  {
   "cell_type": "markdown",
   "id": "7007b7fe",
   "metadata": {},
   "source": [
    "<div>\n",
    "<h2 class=\"breadcrumb\">Data cleaning</h2><p>\n",
    "</div>"
   ]
  },
  {
   "cell_type": "code",
   "execution_count": null,
   "id": "7f7be86c",
   "metadata": {},
   "outputs": [],
   "source": [
    "import pandas as pd\n",
    "import seaborn as sns\n",
    "import matplotlib.pyplot as plt"
   ]
  },
  {
   "cell_type": "code",
   "execution_count": null,
   "id": "2d1ae8ff",
   "metadata": {},
   "outputs": [],
   "source": [
    "df = pd.read_csv('archive/scrubbed.csv', low_memory=False)"
   ]
  },
  {
   "cell_type": "code",
   "execution_count": null,
   "id": "f65dee29",
   "metadata": {
    "scrolled": true
   },
   "outputs": [],
   "source": [
    "df.head()"
   ]
  },
  {
   "cell_type": "code",
   "execution_count": null,
   "id": "b6741b8d",
   "metadata": {},
   "outputs": [],
   "source": [
    "df.columns"
   ]
  },
  {
   "cell_type": "code",
   "execution_count": null,
   "id": "fbc0e432",
   "metadata": {},
   "outputs": [],
   "source": [
    "# rename column \"longitude \" to \"longitude\". There is an extra space. \n",
    "df = df.rename(columns={\"longitude \": \"longitude\"})"
   ]
  },
  {
   "cell_type": "code",
   "execution_count": null,
   "id": "8651ac5d",
   "metadata": {},
   "outputs": [],
   "source": [
    "# check data types\n",
    "df.dtypes"
   ]
  },
  {
   "cell_type": "code",
   "execution_count": null,
   "id": "477de0d3",
   "metadata": {},
   "outputs": [],
   "source": [
    "# convert duration to float \n",
    "# df['duration (seconds)'] = df['duration (seconds)'].astype(float)"
   ]
  },
  {
   "cell_type": "code",
   "execution_count": null,
   "id": "648a8b79",
   "metadata": {},
   "outputs": [],
   "source": [
    "# found an issue with data\n",
    "df[df['duration (seconds)']=='2`']"
   ]
  },
  {
   "cell_type": "code",
   "execution_count": null,
   "id": "6b06cf7c",
   "metadata": {},
   "outputs": [],
   "source": [
    "# clean up duration \n",
    "df['duration (seconds)'] = df['duration (seconds)'].str.strip('`')"
   ]
  },
  {
   "cell_type": "code",
   "execution_count": null,
   "id": "47e18633",
   "metadata": {},
   "outputs": [],
   "source": [
    "# convert duration to float \n",
    "df['duration (seconds)'] = df['duration (seconds)'].astype(float)"
   ]
  },
  {
   "cell_type": "code",
   "execution_count": null,
   "id": "3f65f6cb",
   "metadata": {},
   "outputs": [],
   "source": [
    "# convert latitude to float \n",
    "# df['latitude'] = df['latitude'].astype(float)"
   ]
  },
  {
   "cell_type": "code",
   "execution_count": null,
   "id": "c234fb3b",
   "metadata": {},
   "outputs": [],
   "source": [
    "# found an issue with data\n",
    "df[df.latitude=='33q.200088']"
   ]
  },
  {
   "cell_type": "code",
   "execution_count": null,
   "id": "9205c142",
   "metadata": {},
   "outputs": [],
   "source": [
    "# check data\n",
    "df.iloc[43780: 43786]"
   ]
  },
  {
   "cell_type": "code",
   "execution_count": null,
   "id": "0fd6cba8",
   "metadata": {},
   "outputs": [],
   "source": [
    "# check rows with latitude containing string q \n",
    "df[df['latitude'].str.contains('q')]"
   ]
  },
  {
   "cell_type": "code",
   "execution_count": null,
   "id": "1e6fad82",
   "metadata": {},
   "outputs": [],
   "source": [
    "# clean up latitude\n",
    "df['latitude'] = df['latitude'].str.replace('q','')"
   ]
  },
  {
   "cell_type": "code",
   "execution_count": null,
   "id": "c12d7afe",
   "metadata": {},
   "outputs": [],
   "source": [
    "# convert latitude to float\n",
    "df['latitude'] = df['latitude'].astype(float)"
   ]
  },
  {
   "cell_type": "code",
   "execution_count": null,
   "id": "fa66bc2b",
   "metadata": {},
   "outputs": [],
   "source": [
    "# convert datetime to pandas datetime object \n",
    "# df['datetime'] = pd.to_datetime(df['datetime'])"
   ]
  },
  {
   "cell_type": "code",
   "execution_count": null,
   "id": "a296a142",
   "metadata": {},
   "outputs": [],
   "source": [
    "# found an issue \n",
    "df[df['datetime']=='10/11/2006 24:00']"
   ]
  },
  {
   "cell_type": "code",
   "execution_count": null,
   "id": "b15abb17",
   "metadata": {},
   "outputs": [],
   "source": [
    "# clean up datetime\n",
    "df['datetime'] = df['datetime'].str.replace('24:00','23:59')"
   ]
  },
  {
   "cell_type": "code",
   "execution_count": null,
   "id": "e9ddf948",
   "metadata": {},
   "outputs": [],
   "source": [
    "# convert datetime to pandas datetime object\n",
    "df['datetime'] = pd.to_datetime(df['datetime'])"
   ]
  },
  {
   "cell_type": "code",
   "execution_count": null,
   "id": "41f7fbee",
   "metadata": {},
   "outputs": [],
   "source": [
    "# create variables year, month, day \n",
    "df['year'] = df['datetime'].dt.year\n",
    "df['month'] = df['datetime'].dt.month\n",
    "df['day'] = df['datetime'].dt.day"
   ]
  },
  {
   "cell_type": "code",
   "execution_count": null,
   "id": "71a317f1",
   "metadata": {},
   "outputs": [],
   "source": [
    "# check data types again\n",
    "df.dtypes"
   ]
  },
  {
   "cell_type": "markdown",
   "id": "aed50c59",
   "metadata": {},
   "source": [
    "<div>\n",
    "<h2 class=\"breadcrumb\">Data exploration and visualization</h2><p>\n",
    "</div>"
   ]
  },
  {
   "cell_type": "markdown",
   "id": "549c224f",
   "metadata": {},
   "source": [
    "### What is the overall trend of UFO sightings over time?"
   ]
  },
  {
   "cell_type": "code",
   "execution_count": null,
   "id": "550f5df2",
   "metadata": {},
   "outputs": [],
   "source": [
    "fig, ax = plt.subplots(figsize=(14,5), constrained_layout=True)\n",
    "sns.histplot(data=df, x='datetime', kde=True);"
   ]
  },
  {
   "cell_type": "markdown",
   "id": "22183c90",
   "metadata": {},
   "source": [
    "### Which year has the highest number of UFO sightings?"
   ]
  },
  {
   "cell_type": "code",
   "execution_count": null,
   "id": "9b6b7ccd",
   "metadata": {},
   "outputs": [],
   "source": [
    "df.year.value_counts()"
   ]
  },
  {
   "cell_type": "code",
   "execution_count": null,
   "id": "df5d152d",
   "metadata": {},
   "outputs": [],
   "source": [
    "fig, ax = plt.subplots(figsize=(15,5), constrained_layout=True)\n",
    "sns.countplot(data=df[df.year>1980], x='year');\n",
    "ax.set_xlabel(\"Year\");\n",
    "plt.xticks(rotation=90);\n",
    "ax.grid()\n"
   ]
  },
  {
   "cell_type": "code",
   "execution_count": null,
   "id": "7b86e372",
   "metadata": {},
   "outputs": [],
   "source": [
    "df.head()"
   ]
  },
  {
   "cell_type": "markdown",
   "id": "fea19d4e",
   "metadata": {},
   "source": [
    "### Which day of the month has the highest number of UFO sightings?"
   ]
  },
  {
   "cell_type": "code",
   "execution_count": null,
   "id": "713511b1",
   "metadata": {
    "scrolled": true
   },
   "outputs": [],
   "source": [
    "df.day.value_counts()"
   ]
  },
  {
   "cell_type": "code",
   "execution_count": null,
   "id": "114ec4c3",
   "metadata": {},
   "outputs": [],
   "source": [
    "fig, ax = plt.subplots(figsize=(14,5), constrained_layout=True)\n",
    "sns.countplot(data=df, x='day');\n",
    "ax.set_xlabel(\"Day of month\");\n",
    "for p in ax.patches:\n",
    "    ax.annotate(p.get_height(),  (p.get_x(), p.get_height()));"
   ]
  },
  {
   "cell_type": "markdown",
   "id": "ffbc2805",
   "metadata": {},
   "source": [
    "### Which month of the year has the highest number of UFO sightings?"
   ]
  },
  {
   "cell_type": "code",
   "execution_count": null,
   "id": "7a67c64b",
   "metadata": {},
   "outputs": [],
   "source": [
    "df.month.value_counts()"
   ]
  },
  {
   "cell_type": "code",
   "execution_count": null,
   "id": "b6bcf88c",
   "metadata": {},
   "outputs": [],
   "source": [
    "fig, ax = plt.subplots(figsize=(14,5), constrained_layout=True)\n",
    "sns.countplot(data=df, x='month');\n",
    "ax.set_xlabel(\"Month of year\");\n",
    "for p in ax.patches:\n",
    "    ax.annotate(p.get_height(),  (p.get_x()+0.2, p.get_height()));"
   ]
  },
  {
   "cell_type": "markdown",
   "id": "d60085c8",
   "metadata": {},
   "source": [
    "### Which country has the highest number of UFO sightings?"
   ]
  },
  {
   "cell_type": "code",
   "execution_count": null,
   "id": "fb91ac02",
   "metadata": {},
   "outputs": [],
   "source": [
    "df.plot('longitude', 'latitude', kind='scatter', alpha=0.1);\n",
    "# there are other tools more approriate for geographical plotting that we will not cover here. "
   ]
  },
  {
   "cell_type": "code",
   "execution_count": null,
   "id": "ca598d98",
   "metadata": {},
   "outputs": [],
   "source": [
    "fig, ax = plt.subplots(figsize=(14,5), constrained_layout=True)\n",
    "sns.countplot(data=df, x='country');\n",
    "ax.set_xlabel(\"Country\");\n",
    "for p in ax.patches:\n",
    "    ax.annotate(p.get_height(),  (p.get_x()+0.3, p.get_height()));"
   ]
  },
  {
   "cell_type": "markdown",
   "id": "0fc3d456",
   "metadata": {},
   "source": [
    "### Are there overall trend differences by country?"
   ]
  },
  {
   "cell_type": "code",
   "execution_count": null,
   "id": "bceee52c",
   "metadata": {},
   "outputs": [],
   "source": [
    "fig, ax = plt.subplots(figsize=(14,5), constrained_layout=True)\n",
    "sns.kdeplot(data=df, x='datetime', hue='country');"
   ]
  },
  {
   "cell_type": "code",
   "execution_count": null,
   "id": "53a16c3c",
   "metadata": {},
   "outputs": [],
   "source": [
    "fig, ax = plt.subplots(figsize=(14,5), constrained_layout=True)\n",
    "for c in df['country'].unique():\n",
    "    sns.kdeplot(data=df[df.country==c], x='datetime', label=c, ax=ax);\n",
    "ax.legend();\n"
   ]
  },
  {
   "cell_type": "markdown",
   "id": "8b58e3f5",
   "metadata": {},
   "source": [
    "It's your turn!\n",
    "\n",
    "What other insights can you find with this dataset or another dataset you chose? "
   ]
  },
  {
   "cell_type": "code",
   "execution_count": null,
   "id": "20900025",
   "metadata": {},
   "outputs": [],
   "source": []
  }
 ],
 "metadata": {
  "kernelspec": {
   "display_name": "Python 3 (ipykernel)",
   "language": "python",
   "name": "python3"
  },
  "language_info": {
   "codemirror_mode": {
    "name": "ipython",
    "version": 3
   },
   "file_extension": ".py",
   "mimetype": "text/x-python",
   "name": "python",
   "nbconvert_exporter": "python",
   "pygments_lexer": "ipython3",
   "version": "3.9.6"
  }
 },
 "nbformat": 4,
 "nbformat_minor": 5
}
