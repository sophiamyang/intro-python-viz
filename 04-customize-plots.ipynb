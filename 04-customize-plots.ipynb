{
 "cells": [
  {
   "cell_type": "markdown",
   "id": "01ba6731",
   "metadata": {},
   "source": [
    "<h1>How to customize your plots </h1>\n",
    "<br>\n",
    "\n",
    "Fine-tuning and customization using matplotlib. \n",
    "\n",
    "\n",
    "<p class=\"lead\"> \n",
    "Table of Contents: \n",
    "\n",
    "- <a href=\"#Combine-matplotlib,-pandas,-and-seaborn-plots-in-the-same-figure\">Combine Matplotlib, Pandas, and Seaborn plots in the same figure</a>\n",
    "- <a href=\"#Add-annotations\">Add annotations</a>    \n",
    "- <a href=\"#Change-style\">Change style</a>\n",
    "- <a href=\"#Sharing-your-plots\">Share your plots</a>\n",
    "\n",
    "    \n",
    "</p>\n",
    "\n",
    "\n",
    "\n"
   ]
  },
  {
   "cell_type": "code",
   "execution_count": null,
   "id": "91f66483",
   "metadata": {},
   "outputs": [],
   "source": [
    "import seaborn as sns\n",
    "import pandas as pd\n",
    "import matplotlib.pyplot as plt\n",
    "\n",
    "df = pd.read_csv('assets/mpg.csv')"
   ]
  },
  {
   "cell_type": "markdown",
   "id": "486155af",
   "metadata": {},
   "source": [
    "<div>\n",
    "<h2 class=\"breadcrumb\">Combine Matplotlib, Pandas, and Seaborn plots in the same figure</h2><p>\n",
    "</div>\n"
   ]
  },
  {
   "cell_type": "code",
   "execution_count": null,
   "id": "cedb2a95",
   "metadata": {},
   "outputs": [],
   "source": [
    "fig, ((ax1, ax2), (ax3, ax4)) = plt.subplots(nrows=2, ncols=2, figsize=(7, 4), constrained_layout=True)\n",
    "#matplotlib plot\n",
    "ax1.scatter(df['weight'], df['mpg']);  \n",
    "ax1.set_xlabel('weight'); \n",
    "ax1.set_ylabel('mpg');\n",
    "#pandas plot\n",
    "df.plot('weight', 'mpg', kind='scatter', ax=ax2);\n",
    "#sns plot\n",
    "sns.scatterplot(data=df, x='weight', y=\"mpg\", ax=ax3);\n",
    "sns.scatterplot(data=df, x='weight', y=\"mpg\", hue='origin', ax=ax4);\n",
    "#Add figure title\n",
    "fig.suptitle('Relationship between weight and mpg', fontsize=16);"
   ]
  },
  {
   "cell_type": "markdown",
   "id": "23323523",
   "metadata": {},
   "source": [
    "<div class=\"alert alert-info\">\n",
    "<h4>Exercise</h4>\n",
    "\n",
    "- Load the Penguins dataset from 'assets/penguins.csv' and call it `dfe`.  \n",
    "- Use Matplotlib, Pandas, and Seaborn to plot the distribution of body mass and arrange three plots in one figure. \n",
    "    \n",
    "<details><summary><i><u>(Solution)</u><i></summary><br>\n",
    "    \n",
    "```python\n",
    "dfe = pd.read_csv('assets/penguins.csv')\n",
    "\n",
    "\n",
    "fig, (ax1, ax2, ax3) = plt.subplots(nrows=3, ncols=1, figsize=(7, 4), constrained_layout=True)\n",
    "#matplotlib\n",
    "ax1.hist(dfe['body_mass_g']);\n",
    "ax1.set_ylabel('Frequency');\n",
    "#pandas\n",
    "dfe['body_mass_g'].plot(kind='hist', ax=ax2);\n",
    "#seaborn\n",
    "sns.histplot(data=dfe, x='body_mass_g', kde=True, ax=ax3);\n",
    "ax3.set_ylabel('Frequency');\n",
    "#Add figure title\n",
    "fig.suptitle('Distribution of body mass', fontsize=16);\n",
    "```\n",
    "\n",
    "</details>\n",
    "</div>"
   ]
  },
  {
   "cell_type": "markdown",
   "id": "ae3f2476",
   "metadata": {},
   "source": [
    "<div class=\"alert alert-success\">\n",
    "<h4>Tips</h4>\n",
    "\n",
    "- Use `subplot_mosaic` to  achieve more complex layouts, with Axes objects spanning columns or rows.\n",
    "\n"
   ]
  },
  {
   "cell_type": "code",
   "execution_count": null,
   "id": "a1adb5ee",
   "metadata": {},
   "outputs": [],
   "source": [
    "fig, axs = plt.subplot_mosaic(\"\"\"\n",
    "    AB\n",
    "    CD\n",
    "    \"\"\", layout='constrained')\n",
    "    \n",
    "axs['A'].set_title('A')\n",
    "axs['B'].set_title('B')\n",
    "axs['C'].set_title('C');\n",
    "axs['D'].set_title('D');"
   ]
  },
  {
   "cell_type": "code",
   "execution_count": null,
   "id": "597f0536",
   "metadata": {},
   "outputs": [],
   "source": [
    "fig, axs = plt.subplot_mosaic(\"\"\"\n",
    "    ABD\n",
    "    CCD\n",
    "    \"\"\", layout='constrained')\n",
    "    \n",
    "axs['A'].set_title('A')\n",
    "axs['B'].set_title('B')\n",
    "axs['C'].set_title('C');\n",
    "axs['D'].set_title('D');"
   ]
  },
  {
   "cell_type": "code",
   "execution_count": null,
   "id": "c8beecf1",
   "metadata": {},
   "outputs": [],
   "source": [
    "fig, axs = plt.subplot_mosaic(\"\"\"\n",
    "    A.D\n",
    "    CCD\n",
    "    \"\"\", layout='constrained')\n",
    "    \n",
    "axs['A'].set_title('A')\n",
    "axs['C'].set_title('C');\n",
    "axs['D'].set_title('D');"
   ]
  },
  {
   "cell_type": "markdown",
   "id": "95603137",
   "metadata": {},
   "source": [
    "<div>\n",
    "<h2 class=\"breadcrumb\">Add annotations</h2><p>\n",
    "</div>\n"
   ]
  },
  {
   "cell_type": "code",
   "execution_count": null,
   "id": "be436094",
   "metadata": {},
   "outputs": [],
   "source": [
    "sns.barplot(data=df, x='origin', y='mpg');"
   ]
  },
  {
   "cell_type": "code",
   "execution_count": null,
   "id": "2eb3ba00",
   "metadata": {},
   "outputs": [],
   "source": [
    "df.groupby('origin')['mpg'].mean()"
   ]
  },
  {
   "cell_type": "code",
   "execution_count": null,
   "id": "fe0c4ddd",
   "metadata": {},
   "outputs": [],
   "source": [
    "fig, ax = plt.subplots()\n",
    "sns.barplot(data=df, x='origin', y='mpg', ax=ax);\n",
    "ax.annotate(\n",
    "    text='mean=20.08', \n",
    "    xy=(0, 16), \n",
    "    horizontalalignment='center',\n",
    "    verticalalignment='bottom',\n",
    "    color='b',\n",
    "    bbox=dict(boxstyle=\"round,pad=0.3\", fc=\"w\", ec=\"w\", lw=2)\n",
    ");\n",
    "ax.annotate(\n",
    "    text='mean=30.45',\n",
    "    xy=(1, 26), \n",
    "    horizontalalignment='center',\n",
    "    verticalalignment='bottom',\n",
    "    color='b',\n",
    "    bbox=dict(boxstyle=\"round,pad=0.3\", fc=\"w\", ec=\"w\", lw=2)\n",
    ");\n",
    "ax.annotate(\n",
    "    text='mean=27.89',\n",
    "    xy=(2, 23), \n",
    "    horizontalalignment='center',\n",
    "    verticalalignment='bottom',\n",
    "    color='b',\n",
    "    bbox=dict(boxstyle=\"round,pad=0.3\", fc=\"w\", ec=\"w\", lw=2)\n",
    ");\n"
   ]
  },
  {
   "cell_type": "markdown",
   "id": "09ce0173",
   "metadata": {},
   "source": [
    "<div class=\"alert alert-info\">\n",
    "<h4>Exercise</h4>\n",
    "\n",
    "- Read the [Matplotlib annotation documentation](https://matplotlib.org/stable/tutorials/text/annotations.html)\n",
    "- Try adding arrows in the above plots\n",
    "\n",
    "<details><summary><i><u>(Solution)</u><i></summary><br>\n",
    "    \n",
    "```python\n",
    "fig, ax = plt.subplots()\n",
    "sns.barplot(data=df, x='origin', y='mpg', ax=ax);\n",
    "ax.annotate(\n",
    "    'mean=20.08', \n",
    "    horizontalalignment='center',\n",
    "    verticalalignment='bottom',\n",
    "    xy=(0, 19), \n",
    "    color='b',\n",
    "    bbox=dict(boxstyle=\"round,pad=0.3\", fc=\"w\", ec=\"w\", lw=2),\n",
    "    arrowprops={'facecolor': 'r'},\n",
    "    xytext=(0,10)\n",
    "    \n",
    ");\n",
    "ax.annotate(\n",
    "    'mean=30.45',\n",
    "    horizontalalignment='center',\n",
    "    verticalalignment='bottom',\n",
    "    xy=(1, 29), \n",
    "    color='b',\n",
    "    bbox=dict(boxstyle=\"round,pad=0.3\", fc=\"w\", ec=\"w\", lw=2),\n",
    "    arrowprops={'facecolor': 'r'},\n",
    "    xytext=(1,16)\n",
    "    \n",
    ");\n",
    "ax.annotate(\n",
    "    'mean=27.89',\n",
    "    horizontalalignment='center',\n",
    "    verticalalignment='bottom',\n",
    "    xy=(2, 26), \n",
    "    color='b',\n",
    "    bbox=dict(boxstyle=\"round,pad=0.3\", fc=\"w\", ec=\"w\", lw=2),\n",
    "    arrowprops={'facecolor': 'r'},\n",
    "    xytext=(2,16)\n",
    ");\n",
    "```\n",
    "</details>\n",
    "</div>"
   ]
  },
  {
   "cell_type": "markdown",
   "id": "a405c1aa",
   "metadata": {},
   "source": [
    "<div class=\"alert alert-success\">\n",
    "<h4>Tips</h4>\n",
    "\n",
    "- A better way is to write a for loop to add values programmatically:\n",
    "\n"
   ]
  },
  {
   "cell_type": "code",
   "execution_count": null,
   "id": "abb71b10",
   "metadata": {},
   "outputs": [],
   "source": [
    "fig, ax = plt.subplots()\n",
    "sns.barplot(data=df, x='origin', y='mpg', ax=ax);\n",
    "for p in ax.patches:\n",
    "    ax.annotate(\n",
    "        text=round(p.get_height(),2), \n",
    "        xy=(p.get_x()+0.3, p.get_height()-3),\n",
    "        color='b',\n",
    "        bbox=dict(boxstyle=\"round,pad=0.3\", fc=\"w\", ec=\"w\", lw=2)\n",
    "    );"
   ]
  },
  {
   "cell_type": "markdown",
   "id": "df312e95",
   "metadata": {},
   "source": [
    "<div>\n",
    "<h2 class=\"breadcrumb\">Change style</h2><p>\n",
    "</div>\n"
   ]
  },
  {
   "cell_type": "markdown",
   "id": "2bc0f439",
   "metadata": {},
   "source": [
    "There are a number of [pre-defined styles](https://matplotlib.org/stable/gallery/style_sheets/style_sheets_reference.html) provided by Matplotlib. To list all available styles, use:\n",
    "\n"
   ]
  },
  {
   "cell_type": "code",
   "execution_count": null,
   "id": "4123e6f7",
   "metadata": {},
   "outputs": [],
   "source": [
    "\n",
    "print(plt.style.available)"
   ]
  },
  {
   "cell_type": "markdown",
   "id": "28e42b5f",
   "metadata": {},
   "source": [
    "To use a specific style, add:"
   ]
  },
  {
   "cell_type": "code",
   "execution_count": null,
   "id": "acb154b7",
   "metadata": {},
   "outputs": [],
   "source": [
    "plt.style.use('ggplot')"
   ]
  },
  {
   "cell_type": "code",
   "execution_count": null,
   "id": "08b362a8",
   "metadata": {},
   "outputs": [],
   "source": [
    "fig,ax = plt.subplots(figsize=(7, 4), constrained_layout=True)\n",
    "df.plot('weight', 'mpg', kind='scatter', ax=ax);\n",
    "fig.suptitle('Relationship between weight and mpg', fontsize=16);"
   ]
  },
  {
   "cell_type": "markdown",
   "id": "0f21a850",
   "metadata": {},
   "source": [
    "<div>\n",
    "<h2 class=\"breadcrumb\">Share your plots</h2><p>\n",
    "</div>\n"
   ]
  },
  {
   "cell_type": "code",
   "execution_count": null,
   "id": "4ef3c89e",
   "metadata": {},
   "outputs": [],
   "source": [
    "fig, ((ax1, ax2), (ax3, ax4)) = plt.subplots(2, 2, figsize=(7, 4), constrained_layout=True)\n",
    "#matplotlib plot\n",
    "ax1.scatter(df['weight'], df['mpg']);  \n",
    "ax1.set_xlabel('weight'); \n",
    "ax1.set_ylabel('mpg');\n",
    "#pandas plot\n",
    "df.plot('weight', 'mpg', kind='scatter', ax=ax2);\n",
    "#sns plot\n",
    "sns.scatterplot(data=df, x='weight', y=\"mpg\", ax=ax3);\n",
    "sns.scatterplot(data=df, x='weight', y=\"mpg\", hue='origin', ax=ax4);\n",
    "#Add figure title\n",
    "fig.suptitle('Relationship between weight and mpg', fontsize=16);\n"
   ]
  },
  {
   "cell_type": "markdown",
   "id": "3fbac8c6",
   "metadata": {},
   "source": [
    "We can use the `.savefig` function to save a figure to a local file. Here is the list of supported file formats:"
   ]
  },
  {
   "cell_type": "code",
   "execution_count": null,
   "id": "0a19c586",
   "metadata": {},
   "outputs": [],
   "source": [
    "plt.gcf().canvas.get_supported_filetypes()"
   ]
  },
  {
   "cell_type": "code",
   "execution_count": null,
   "id": "b9ccc4df",
   "metadata": {},
   "outputs": [],
   "source": [
    "# save figure to a .png file\n",
    "fig.savefig(\"weight_mpg.png\")"
   ]
  },
  {
   "cell_type": "code",
   "execution_count": null,
   "id": "12121054",
   "metadata": {},
   "outputs": [],
   "source": [
    "# save figure to a .pdf file\n",
    "fig.savefig(\"weight_mpg.pdf\")"
   ]
  },
  {
   "cell_type": "code",
   "execution_count": null,
   "id": "425d3c3c",
   "metadata": {},
   "outputs": [],
   "source": []
  }
 ],
 "metadata": {
  "kernelspec": {
   "display_name": "Python 3 (ipykernel)",
   "language": "python",
   "name": "python3"
  },
  "language_info": {
   "codemirror_mode": {
    "name": "ipython",
    "version": 3
   },
   "file_extension": ".py",
   "mimetype": "text/x-python",
   "name": "python",
   "nbconvert_exporter": "python",
   "pygments_lexer": "ipython3",
   "version": "3.9.6"
  }
 },
 "nbformat": 4,
 "nbformat_minor": 5
}
